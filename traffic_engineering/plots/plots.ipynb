{
 "cells": [
  {
   "cell_type": "code",
   "execution_count": null,
   "metadata": {},
   "outputs": [],
   "source": [
    "import networkx as nx\n",
    "import numpy as np\n",
    "import matplotlib.pyplot as plt\n",
    "import seaborn as sns\n",
    "import pandas as pd\n",
    "\n",
    "from glob import iglob\n",
    "from math import log, floor\n",
    "import os\n",
    "import re\n",
    "import pickle\n",
    "\n",
    "%reload_ext autoreload\n",
    "%autoreload 2\n",
    "\n",
    "from lib.plot_utils import *\n",
    "from lib.cdf_utils import *"
   ]
  },
  {
   "source": [
    "# POP"
   ],
   "cell_type": "markdown",
   "metadata": {}
  },
  {
   "source": [
    "## Maximum Concurrent Flow"
   ],
   "cell_type": "markdown",
   "metadata": {}
  },
  {
   "cell_type": "code",
   "execution_count": null,
   "metadata": {},
   "outputs": [],
   "source": [
    "# Path Formulation DF\n",
    "path_form_df = (\n",
    "    pd.read_csv(\"scripts/mcf_cdfs/path-form.csv\")\n",
    "    .drop(columns=[\"num_nodes\", \"num_edges\", \"num_commodities\"])\n",
    "    .query(PF_PARAMS)\n",
    ")\n",
    "path_form_df = sort_and_set_index(path_form_df, drop=True)"
   ]
  },
  {
   "cell_type": "code",
   "execution_count": null,
   "metadata": {},
   "outputs": [],
   "source": [
    "# POP DF\n",
    "pop_df = pd.read_csv(\"scripts/mcf_cdfs/pop.csv\")\n",
    "pop_df = sort_and_set_index(pop_df, drop=True)"
   ]
  },
  {
   "cell_type": "code",
   "execution_count": null,
   "metadata": {},
   "outputs": [],
   "source": [
    "pop_mcf_ratio_df = get_ratio_df(pop_df, path_form_df, \"obj_val\", \"_pop\")"
   ]
  },
  {
   "cell_type": "code",
   "execution_count": null,
   "metadata": {},
   "outputs": [],
   "source": [
    "pop_mcf_ratio_df.query(\"problem == 'Kdl.graphml'\").sort_values(\"obj_val_ratio\").head(20)"
   ]
  },
  {
   "source": [
    "### CDFs"
   ],
   "cell_type": "markdown",
   "metadata": {}
  },
  {
   "cell_type": "code",
   "execution_count": null,
   "metadata": {},
   "outputs": [],
   "source": [
    "from mcf_cdfs.plot_mcf_cdfs import plot_mcf_cdfs\n",
    "plot_mcf_cdfs('mcf_cdfs/', title='Poisson High Intra', query_str='problem not in [\"Uninett2010.graphml\", \"Ion.graphml\", \"Interoute.graphml\"] and tm_model == \"poisson-high-intra\"')"
   ]
  },
  {
   "cell_type": "code",
   "execution_count": null,
   "metadata": {},
   "outputs": [],
   "source": [
    "from mcf_cdfs.plot_mcf_cdfs import plot_mcf_cdfs\n",
    "plot_mcf_cdfs('mcf_cdfs/', title='Uniform', query_str='problem not in [\"Uninett2010.graphml\", \"Ion.graphml\", \"Interoute.graphml\"] and tm_model == \"uniform\"')"
   ]
  },
  {
   "source": [
    "## Max Flow"
   ],
   "cell_type": "markdown",
   "metadata": {}
  },
  {
   "source": [
    "### CDFs"
   ],
   "cell_type": "markdown",
   "metadata": {}
  },
  {
   "cell_type": "code",
   "execution_count": null,
   "metadata": {
    "tags": []
   },
   "outputs": [],
   "source": [
    "from speedup_relative_flow_cdfs.plot_speedup_relative_flow_cdfs import plot_speedup_relative_flow_cdfs\n",
    "plot_speedup_relative_flow_cdfs('speedup_relative_flow_cdfs/', title='Uniform', query_str='problem not in [\"Uninett2010.graphml\", \"Ion.graphml\", \"Interoute.graphml\"] and tm_model == \"uniform\"')"
   ]
  },
  {
   "cell_type": "code",
   "execution_count": null,
   "metadata": {},
   "outputs": [],
   "source": [
    "plot_speedup_relative_flow_cdfs('speedup_relative_flow_cdfs/', title='Gravity', query_str='problem not in [\"Uninett2010.graphml\", \"Ion.graphml\", \"Interoute.graphml\"] and tm_model == \"gravity\"')"
   ]
  },
  {
   "cell_type": "code",
   "execution_count": null,
   "metadata": {},
   "outputs": [],
   "source": [
    "plot_speedup_relative_flow_cdfs('speedup_relative_flow_cdfs/', title='Bimodal', query_str='problem not in [\"Uninett2010.graphml\", \"Ion.graphml\", \"Interoute.graphml\"] and tm_model == \"bimodal\"')"
   ]
  },
  {
   "cell_type": "code",
   "execution_count": null,
   "metadata": {},
   "outputs": [],
   "source": [
    "plot_speedup_relative_flow_cdfs('speedup_relative_flow_cdfs/', title='Poisson High Inter', query_str='problem not in [\"Uninett2010.graphml\", \"Ion.graphml\", \"Interoute.graphml\"] and tm_model == \"poisson-high-inter\"')"
   ]
  },
  {
   "cell_type": "code",
   "execution_count": null,
   "metadata": {},
   "outputs": [],
   "source": [
    "plot_speedup_relative_flow_cdfs('speedup_relative_flow_cdfs/', title='Poisson High Intra', query_str='problem not in [\"Uninett2010.graphml\", \"Ion.graphml\", \"Interoute.graphml\"] and tm_model == \"poisson-high-intra\"')"
   ]
  },
  {
   "cell_type": "code",
   "execution_count": null,
   "metadata": {},
   "outputs": [],
   "source": [
    "plot_speedup_relative_flow_cdfs('speedup_relative_flow_cdfs/', title='Kdl', query_str='problem not in [\"Uninett2010.graphml\", \"Ion.graphml\", \"Interoute.graphml\"] and problem == \"Kdl.graphml\"')"
   ]
  },
  {
   "cell_type": "code",
   "execution_count": null,
   "metadata": {},
   "outputs": [],
   "source": [
    "plot_speedup_relative_flow_cdfs('speedup_relative_flow_cdfs/', title='GtsCe', query_str='problem not in [\"Uninett2010.graphml\", \"Ion.graphml\", \"Interoute.graphml\"] and problem == \"GtsCe.graphml\"')"
   ]
  },
  {
   "cell_type": "code",
   "execution_count": null,
   "metadata": {},
   "outputs": [],
   "source": [
    "plot_speedup_relative_flow_cdfs('speedup_relative_flow_cdfs/', title=r'$\\alpha \\in \\{1, 2\\}$', query_str='problem not in [\"Uninett2010.graphml\", \"Ion.graphml\", \"Interoute.graphml\"] and scale_factor in [1.0, 2.0]')"
   ]
  },
  {
   "cell_type": "code",
   "execution_count": null,
   "metadata": {},
   "outputs": [],
   "source": [
    "plot_speedup_relative_flow_cdfs('speedup_relative_flow_cdfs/', title=r'$\\alpha$ = 16', query_str='problem not in [\"Uninett2010.graphml\", \"Ion.graphml\", \"Interoute.graphml\"] and scale_factor == 16.0')"
   ]
  },
  {
   "cell_type": "code",
   "execution_count": null,
   "metadata": {},
   "outputs": [],
   "source": [
    "plot_speedup_relative_flow_cdfs('speedup_relative_flow_cdfs/', title=r'$\\alpha$ = 128', query_str='problem not in [\"Uninett2010.graphml\", \"Ion.graphml\", \"Interoute.graphml\"] and scale_factor == 128.0')"
   ]
  },
  {
   "source": [
    "## Scatter Plots"
   ],
   "cell_type": "markdown",
   "metadata": {}
  },
  {
   "cell_type": "code",
   "execution_count": null,
   "metadata": {},
   "outputs": [],
   "source": [
    "from scatter_plot.plot_scatter_plot import scatter"
   ]
  },
  {
   "cell_type": "code",
   "execution_count": null,
   "metadata": {},
   "outputs": [],
   "source": [
    "def pop_random_scatter(query_str, title):\n",
    "    plot_dfs = [df.query(query_str) for df in ratio_dfs[0:3]]\n",
    "    scatter(plot_dfs,\n",
    "            [\"POP: Random, 64\", \"POP: Random, 16\", \"POP: Random, 4\"],\n",
    "            [\"nc\", \"smore\", \"pf\"],\n",
    "            \"flow_ratio\",\n",
    "            \"speedup_ratio\",\n",
    "            xlim=None,\n",
    "            ylim=None,\n",
    "            xlabel='flow ratio to PF4',\n",
    "            ylabel='speedup ratio to PF4',\n",
    "            bbta=(0, 0, 1, 2.35),\n",
    "            ncol=3,\n",
    "            title=title,\n",
    "            log=True) "
   ]
  },
  {
   "cell_type": "code",
   "execution_count": null,
   "metadata": {},
   "outputs": [],
   "source": [
    "pop_random_scatter(\"tm_model == 'poisson-high-intra'\", \"Poisson, High Intra\")\n"
   ]
  },
  {
   "cell_type": "code",
   "execution_count": null,
   "metadata": {},
   "outputs": [],
   "source": [
    "pop_random_scatter(\"tm_model == 'poisson-high-inter'\", \"Poisson, High Inter\")"
   ]
  },
  {
   "cell_type": "code",
   "execution_count": null,
   "metadata": {},
   "outputs": [],
   "source": [
    "pop_random_scatter(\"tm_model == 'uniform'\", \"Uniform\")"
   ]
  },
  {
   "cell_type": "code",
   "execution_count": null,
   "metadata": {},
   "outputs": [],
   "source": [
    "pop_random_scatter(\"tm_model == 'gravity'\", \"Gravity\")"
   ]
  },
  {
   "cell_type": "code",
   "execution_count": null,
   "metadata": {},
   "outputs": [],
   "source": [
    "pop_random_scatter(\"tm_model == 'bimodal'\", \"Bimodal\")"
   ]
  }
 ],
 "metadata": {
  "kernelspec": {
   "name": "python388jvsc74a57bd08084d8ef14082c5908e3189999da088a17081a0740c2c6b004ccabca56276078",
   "display_name": "Python 3.8.8 64-bit ('pop': conda)"
  },
  "language_info": {
   "codemirror_mode": {
    "name": "ipython",
    "version": 3
   },
   "file_extension": ".py",
   "mimetype": "text/x-python",
   "name": "python",
   "nbconvert_exporter": "python",
   "pygments_lexer": "ipython3",
   "version": "3.8.8"
  }
 },
 "nbformat": 4,
 "nbformat_minor": 2
}