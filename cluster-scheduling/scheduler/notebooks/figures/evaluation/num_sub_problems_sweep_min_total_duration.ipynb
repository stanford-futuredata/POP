{
 "cells": [
  {
   "cell_type": "markdown",
   "metadata": {},
   "source": [
    "# Makespan policies"
   ]
  },
  {
   "cell_type": "markdown",
   "metadata": {},
   "source": [
    "In this notebook, we compare various heterogeneity-agnostic and heterogeneity-aware makespan policies."
   ]
  },
  {
   "cell_type": "markdown",
   "metadata": {},
   "source": [
    "## Import statements"
   ]
  },
  {
   "cell_type": "code",
   "execution_count": 1,
   "metadata": {},
   "outputs": [],
   "source": [
    "from plotting_utils import *\n",
    "from utils import get_logfile_paths_helper, makespan_fn, prune"
   ]
  },
  {
   "cell_type": "markdown",
   "metadata": {},
   "source": [
    "## Get list of relevant logfiles and define label mapping"
   ]
  },
  {
   "cell_type": "code",
   "execution_count": 2,
   "metadata": {},
   "outputs": [],
   "source": [
    "def get_logfile_paths(directory_name, static_trace=False):\n",
    "    logfile_paths = []\n",
    "    import re\n",
    "    for logfile_path in get_logfile_paths_helper(directory_name):\n",
    "        m = re.match(\n",
    "            r'.*v100=(\\d+)\\.p100=(\\d+)\\.k80=(\\d+)/(.*)/'\n",
    "             'num_sub_problems=(\\d+)/seed=(\\d+)/'\n",
    "             'num_total_jobs=(\\d+)\\.log', logfile_path)\n",
    "        if m is None: continue\n",
    "        v100s = int(m.group(1))\n",
    "        p100s = int(m.group(2))\n",
    "        k80s = int(m.group(3))\n",
    "        policy = m.group(4)\n",
    "        num_sub_problems = int(m.group(5))\n",
    "        seed = int(m.group(6))\n",
    "        num_total_jobs = float(m.group(7))\n",
    "        logfile_paths.append((v100s, p100s, k80s, policy, seed,\n",
    "                              num_total_jobs, num_sub_problems, logfile_path))\n",
    "    return logfile_paths"
   ]
  },
  {
   "cell_type": "code",
   "execution_count": 3,
   "metadata": {},
   "outputs": [],
   "source": [
    "logfile_paths = sorted(\n",
    "    get_logfile_paths(\n",
    "        \"/lfs/1/deepak/logs/num_sub_problems_static_sweep/\", static_trace=True))"
   ]
  },
  {
   "cell_type": "code",
   "execution_count": 4,
   "metadata": {},
   "outputs": [],
   "source": [
    "labels = {\"min_total_duration_perf\": \"POP\",\n",
    "          \"min_total_duration_packed\": \"POP\"}"
   ]
  },
  {
   "cell_type": "markdown",
   "metadata": {},
   "source": [
    "## Plotting functions"
   ]
  },
  {
   "cell_type": "code",
   "execution_count": 5,
   "metadata": {},
   "outputs": [],
   "source": [
    "def plot_metric_vs_num_total_jobs(logfile_paths,\n",
    "                                  labels,\n",
    "                                  v100s, p100s, k80s, policies, metric_fn,\n",
    "                                  metric_label, xmax=None, ymax=None,\n",
    "                                  output_filename=None):\n",
    "    plt.figure(figsize=(8, 3))\n",
    "    ax = plt.subplot2grid((1, 1), (0, 0), colspan=1)\n",
    "\n",
    "    data = {\"num_total_jobs\": [], \"metric\": [], \"seed\": [],\n",
    "            \"policy\": []}\n",
    "    for policy in policies:\n",
    "        relevant_logfile_paths = list(reversed(prune(\n",
    "            logfile_paths, v100s, p100s, k80s, policy,\n",
    "            num_sub_problems_provided=True)))\n",
    "        num_total_jobs = [x[0] for x in relevant_logfile_paths]\n",
    "        metrics = [metric_fn(x[1]) for x in relevant_logfile_paths]\n",
    "        seeds = [x[2] for x in relevant_logfile_paths]\n",
    "        all_num_sub_problems = [x[3] for x in relevant_logfile_paths]\n",
    "        policies_with_sub_problems = [labels[policy] + \" (%d)\" % num_sub_problems if num_sub_problems > 1\n",
    "                                      else \"Original\"\n",
    "                                      for num_sub_problems in all_num_sub_problems]\n",
    "\n",
    "        import pandas as pd\n",
    "        data[\"num_total_jobs\"] += num_total_jobs\n",
    "        data[\"metric\"] += metrics\n",
    "        data[\"seed\"] += seeds\n",
    "        data[\"policy\"] += policies_with_sub_problems\n",
    "    import pandas as pd\n",
    "    df = pd.DataFrame(data)\n",
    "    print(df.groupby([\"policy\", \"num_total_jobs\"]).mean())\n",
    "\n",
    "    sns.lineplot(x='num_total_jobs', y='metric', style='policy',\n",
    "                 hue='policy',\n",
    "                 data=data, ci='sd',\n",
    "                 markers=True)\n",
    "\n",
    "    ax.set_xlabel(\"Number of jobs\")\n",
    "    ax.set_ylabel(metric_label)\n",
    "    ax.set_xlim([70, xmax])\n",
    "    ax.set_xticks([100, 200, 300, 400, 500, 600, 700])\n",
    "    sns.despine()\n",
    "    \n",
    "    leg = plt.legend(frameon=False)\n",
    "    bb = leg.get_bbox_to_anchor().inverse_transformed(ax.transAxes)\n",
    "    bb.y0 += 0.22\n",
    "    bb.y1 += 0.22\n",
    "    leg.set_bbox_to_anchor(bb, transform=ax.transAxes)\n",
    "    \n",
    "    if output_filename is not None:\n",
    "        with PdfPages(output_filename) as pdf:\n",
    "            pdf.savefig(bbox_inches='tight')\n",
    "    \n",
    "    plt.show()"
   ]
  },
  {
   "cell_type": "markdown",
   "metadata": {},
   "source": [
    "## Plot makespan vs. number of jobs"
   ]
  },
  {
   "cell_type": "code",
   "execution_count": 6,
   "metadata": {
    "scrolled": false
   },
   "outputs": [
    {
     "name": "stdout",
     "output_type": "stream",
     "text": [
      "                             metric  seed\n",
      "policy   num_total_jobs                  \n",
      "Original 100.0           162.443708     1\n",
      "         200.0           162.662470     1\n",
      "         300.0           162.909686     1\n",
      "         400.0           162.966511     1\n",
      "         500.0           185.766189     1\n",
      "         600.0           222.373590     1\n",
      "         700.0           273.427585     1\n",
      "POP (2)  100.0           162.435346     1\n",
      "         200.0           162.587449     1\n",
      "         300.0           162.699778     1\n",
      "         400.0           164.157483     1\n",
      "         500.0           187.895774     1\n",
      "         600.0           223.041518     1\n",
      "         700.0           273.621989     1\n",
      "POP (4)  100.0           162.435319     1\n",
      "         200.0           162.575729     1\n",
      "         300.0           164.335027     1\n",
      "         400.0           168.835006     1\n",
      "         500.0           191.084714     1\n",
      "         600.0           224.476269     1\n",
      "         700.0           263.010003     1\n"
     ]
    },
    {
     "data": {
      "image/png": "[encoded data removed]",
      "text/plain": [
       "<Figure size 576x216 with 1 Axes>"
      ]
     },
     "metadata": {
      "needs_background": "light"
     },
     "output_type": "display_data"
    }
   ],
   "source": [
    "plot_metric_vs_num_total_jobs(\n",
    "    logfile_paths,\n",
    "    labels,\n",
    "    v100s=32, p100s=32, k80s=32,\n",
    "    policies=[\"min_total_duration_perf\"],\n",
    "    metric_fn=makespan_fn,\n",
    "    metric_label=\"Makespan (hours)\",\n",
    "    output_filename=\"num_sub_problems_sweep/min_total_duration_perf.pdf\"\n",
    ")"
   ]
  }
 ],
 "metadata": {
  "kernelspec": {
   "display_name": "Python 3",
   "language": "python",
   "name": "python3"
  },
  "language_info": {
   "codemirror_mode": {
    "name": "ipython",
    "version": 3
   },
   "file_extension": ".py",
   "mimetype": "text/x-python",
   "name": "python",
   "nbconvert_exporter": "python",
   "pygments_lexer": "ipython3",
   "version": "3.7.7"
  }
 },
 "nbformat": 4,
 "nbformat_minor": 2
}
